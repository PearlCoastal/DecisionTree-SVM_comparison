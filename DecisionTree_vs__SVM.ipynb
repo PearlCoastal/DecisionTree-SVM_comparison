{
  "nbformat": 4,
  "nbformat_minor": 0,
  "metadata": {
    "colab": {
      "name": "DecisionTree_vs._SVM.ipynb",
      "provenance": [],
      "collapsed_sections": [],
      "authorship_tag": "ABX9TyNQ36kVtQ313Zbmq3+oZ5sc",
      "include_colab_link": true
    },
    "kernelspec": {
      "name": "python3",
      "display_name": "Python 3"
    }
  },
  "cells": [
    {
      "cell_type": "markdown",
      "metadata": {
        "id": "view-in-github",
        "colab_type": "text"
      },
      "source": [
        "<a href=\"https://colab.research.google.com/github/PearlCoastal/Machine-Learning/blob/master/DecisionTree_vs__SVM.ipynb\" target=\"_parent\"><img src=\"https://colab.research.google.com/assets/colab-badge.svg\" alt=\"Open In Colab\"/></a>"
      ]
    },
    {
      "cell_type": "code",
      "metadata": {
        "id": "KvPgrFpEyJwJ"
      },
      "source": [
        "#Here are my source code and discussion under the results compared between Decision Tree and SVM.\n"
      ],
      "execution_count": null,
      "outputs": []
    },
    {
      "cell_type": "code",
      "metadata": {
        "id": "wyoMeyZdl6_K",
        "colab": {
          "base_uri": "https://localhost:8080/",
          "height": 419
        },
        "outputId": "cde95cf3-2825-4b5b-dbdf-e0ad47f68bfe"
      },
      "source": [
        "import pandas as pd\n",
        "\n",
        "#I am using the dataset named \"penguin\".\n",
        "\n",
        "#Using species island culumen and flipper to check whether the penguin is a male or a female\n",
        "\n",
        "url=\"https://raw.githubusercontent.com/mwaskom/seaborn-data/master/penguins.csv\"\n",
        "\n",
        "df = pd.read_csv(url)\n",
        "\n",
        "# The initial dataset contains \"species\", \"island\" and \"sex\" which are string and I've transformed them into float using \"replace\"\n",
        "\n",
        "# First Step: Data pre-processing procedure\n",
        "\n",
        "# Like in species there are three kinds : \"Adelie, Chinstrap, Gentoo\", and they are in \"string\"so I replace it with \"0,1,2\" which is in \"float\"\n",
        "\n",
        "# The island and sex are pre-processed as the same\n",
        "\n",
        "# species\n",
        "df=df.replace({'Adelie' : 0, 'Chinstrap' : 1, 'Gentoo' : 2})\n",
        "\n",
        "# island\n",
        "df=df.replace({'Torgersen':0,'Dream':1,'Gentoo':2,'Biscoe':3})\n",
        "\n",
        "# sex\n",
        "df=df.replace({'MALE' : 0, 'FEMALE' : 1})\n",
        "\n",
        "\n",
        "# Because there are several missing values in penguin dataset as showing like \"NaN\"\n",
        "# so I use the dropna function in order to drop those missing indices.\n",
        "\n",
        "df.dropna(subset= ['sex'], inplace = True)\n",
        "\n",
        "df\n",
        "\n",
        "# here are my pre-processed dataset"
      ],
      "execution_count": null,
      "outputs": [
        {
          "output_type": "execute_result",
          "data": {
            "text/html": [
              "<div>\n",
              "<style scoped>\n",
              "    .dataframe tbody tr th:only-of-type {\n",
              "        vertical-align: middle;\n",
              "    }\n",
              "\n",
              "    .dataframe tbody tr th {\n",
              "        vertical-align: top;\n",
              "    }\n",
              "\n",
              "    .dataframe thead th {\n",
              "        text-align: right;\n",
              "    }\n",
              "</style>\n",
              "<table border=\"1\" class=\"dataframe\">\n",
              "  <thead>\n",
              "    <tr style=\"text-align: right;\">\n",
              "      <th></th>\n",
              "      <th>species</th>\n",
              "      <th>island</th>\n",
              "      <th>culmen_length_mm</th>\n",
              "      <th>culmen_depth_mm</th>\n",
              "      <th>flipper_length_mm</th>\n",
              "      <th>body_mass_g</th>\n",
              "      <th>sex</th>\n",
              "    </tr>\n",
              "  </thead>\n",
              "  <tbody>\n",
              "    <tr>\n",
              "      <th>0</th>\n",
              "      <td>0</td>\n",
              "      <td>0</td>\n",
              "      <td>39.1</td>\n",
              "      <td>18.7</td>\n",
              "      <td>181.0</td>\n",
              "      <td>3750.0</td>\n",
              "      <td>0.0</td>\n",
              "    </tr>\n",
              "    <tr>\n",
              "      <th>1</th>\n",
              "      <td>0</td>\n",
              "      <td>0</td>\n",
              "      <td>39.5</td>\n",
              "      <td>17.4</td>\n",
              "      <td>186.0</td>\n",
              "      <td>3800.0</td>\n",
              "      <td>1.0</td>\n",
              "    </tr>\n",
              "    <tr>\n",
              "      <th>2</th>\n",
              "      <td>0</td>\n",
              "      <td>0</td>\n",
              "      <td>40.3</td>\n",
              "      <td>18.0</td>\n",
              "      <td>195.0</td>\n",
              "      <td>3250.0</td>\n",
              "      <td>1.0</td>\n",
              "    </tr>\n",
              "    <tr>\n",
              "      <th>4</th>\n",
              "      <td>0</td>\n",
              "      <td>0</td>\n",
              "      <td>36.7</td>\n",
              "      <td>19.3</td>\n",
              "      <td>193.0</td>\n",
              "      <td>3450.0</td>\n",
              "      <td>1.0</td>\n",
              "    </tr>\n",
              "    <tr>\n",
              "      <th>5</th>\n",
              "      <td>0</td>\n",
              "      <td>0</td>\n",
              "      <td>39.3</td>\n",
              "      <td>20.6</td>\n",
              "      <td>190.0</td>\n",
              "      <td>3650.0</td>\n",
              "      <td>0.0</td>\n",
              "    </tr>\n",
              "    <tr>\n",
              "      <th>...</th>\n",
              "      <td>...</td>\n",
              "      <td>...</td>\n",
              "      <td>...</td>\n",
              "      <td>...</td>\n",
              "      <td>...</td>\n",
              "      <td>...</td>\n",
              "      <td>...</td>\n",
              "    </tr>\n",
              "    <tr>\n",
              "      <th>338</th>\n",
              "      <td>2</td>\n",
              "      <td>3</td>\n",
              "      <td>47.2</td>\n",
              "      <td>13.7</td>\n",
              "      <td>214.0</td>\n",
              "      <td>4925.0</td>\n",
              "      <td>1.0</td>\n",
              "    </tr>\n",
              "    <tr>\n",
              "      <th>340</th>\n",
              "      <td>2</td>\n",
              "      <td>3</td>\n",
              "      <td>46.8</td>\n",
              "      <td>14.3</td>\n",
              "      <td>215.0</td>\n",
              "      <td>4850.0</td>\n",
              "      <td>1.0</td>\n",
              "    </tr>\n",
              "    <tr>\n",
              "      <th>341</th>\n",
              "      <td>2</td>\n",
              "      <td>3</td>\n",
              "      <td>50.4</td>\n",
              "      <td>15.7</td>\n",
              "      <td>222.0</td>\n",
              "      <td>5750.0</td>\n",
              "      <td>0.0</td>\n",
              "    </tr>\n",
              "    <tr>\n",
              "      <th>342</th>\n",
              "      <td>2</td>\n",
              "      <td>3</td>\n",
              "      <td>45.2</td>\n",
              "      <td>14.8</td>\n",
              "      <td>212.0</td>\n",
              "      <td>5200.0</td>\n",
              "      <td>1.0</td>\n",
              "    </tr>\n",
              "    <tr>\n",
              "      <th>343</th>\n",
              "      <td>2</td>\n",
              "      <td>3</td>\n",
              "      <td>49.9</td>\n",
              "      <td>16.1</td>\n",
              "      <td>213.0</td>\n",
              "      <td>5400.0</td>\n",
              "      <td>0.0</td>\n",
              "    </tr>\n",
              "  </tbody>\n",
              "</table>\n",
              "<p>333 rows × 7 columns</p>\n",
              "</div>"
            ],
            "text/plain": [
              "     species  island  culmen_length_mm  ...  flipper_length_mm  body_mass_g  sex\n",
              "0          0       0              39.1  ...              181.0       3750.0  0.0\n",
              "1          0       0              39.5  ...              186.0       3800.0  1.0\n",
              "2          0       0              40.3  ...              195.0       3250.0  1.0\n",
              "4          0       0              36.7  ...              193.0       3450.0  1.0\n",
              "5          0       0              39.3  ...              190.0       3650.0  0.0\n",
              "..       ...     ...               ...  ...                ...          ...  ...\n",
              "338        2       3              47.2  ...              214.0       4925.0  1.0\n",
              "340        2       3              46.8  ...              215.0       4850.0  1.0\n",
              "341        2       3              50.4  ...              222.0       5750.0  0.0\n",
              "342        2       3              45.2  ...              212.0       5200.0  1.0\n",
              "343        2       3              49.9  ...              213.0       5400.0  0.0\n",
              "\n",
              "[333 rows x 7 columns]"
            ]
          },
          "metadata": {
            "tags": []
          },
          "execution_count": 5
        }
      ]
    },
    {
      "cell_type": "code",
      "metadata": {
        "id": "S0qK-hiO1ePu",
        "colab": {
          "base_uri": "https://localhost:8080/",
          "height": 419
        },
        "outputId": "b314ea8d-fed2-4c4a-9ba8-444022cf9b6e"
      },
      "source": [
        "from sklearn.model_selection import train_test_split\n",
        "\n",
        "# using 'species', 'island', 'culmen_length_mm', 'culmen_depth_mm', 'flipper_length_mm', 'body_mass_g' as training feature\n",
        "feature = df.loc[:,['species', 'island', 'culmen_length_mm', 'culmen_depth_mm', 'flipper_length_mm', 'body_mass_g']]\n",
        "\n",
        "# supervised machine learning\n",
        "\n",
        "# 'sex' as label\n",
        "target = df.loc[:,['sex']]\n",
        "\n",
        "\n",
        "# seperate dataset\n",
        "\n",
        "# training data and test data are divided as 8/10 and 2/10\n",
        "\n",
        "# random state\n",
        "\n",
        "x_feature, y_feature, x_target, y_target = train_test_split(feature, target, train_size=0.8, random_state=2)\n",
        "\n",
        "x_feature"
      ],
      "execution_count": null,
      "outputs": [
        {
          "output_type": "execute_result",
          "data": {
            "text/html": [
              "<div>\n",
              "<style scoped>\n",
              "    .dataframe tbody tr th:only-of-type {\n",
              "        vertical-align: middle;\n",
              "    }\n",
              "\n",
              "    .dataframe tbody tr th {\n",
              "        vertical-align: top;\n",
              "    }\n",
              "\n",
              "    .dataframe thead th {\n",
              "        text-align: right;\n",
              "    }\n",
              "</style>\n",
              "<table border=\"1\" class=\"dataframe\">\n",
              "  <thead>\n",
              "    <tr style=\"text-align: right;\">\n",
              "      <th></th>\n",
              "      <th>species</th>\n",
              "      <th>island</th>\n",
              "      <th>culmen_length_mm</th>\n",
              "      <th>culmen_depth_mm</th>\n",
              "      <th>flipper_length_mm</th>\n",
              "      <th>body_mass_g</th>\n",
              "    </tr>\n",
              "  </thead>\n",
              "  <tbody>\n",
              "    <tr>\n",
              "      <th>66</th>\n",
              "      <td>0</td>\n",
              "      <td>3</td>\n",
              "      <td>35.5</td>\n",
              "      <td>16.2</td>\n",
              "      <td>195.0</td>\n",
              "      <td>3350.0</td>\n",
              "    </tr>\n",
              "    <tr>\n",
              "      <th>132</th>\n",
              "      <td>0</td>\n",
              "      <td>1</td>\n",
              "      <td>36.8</td>\n",
              "      <td>18.5</td>\n",
              "      <td>193.0</td>\n",
              "      <td>3500.0</td>\n",
              "    </tr>\n",
              "    <tr>\n",
              "      <th>247</th>\n",
              "      <td>2</td>\n",
              "      <td>3</td>\n",
              "      <td>47.8</td>\n",
              "      <td>15.0</td>\n",
              "      <td>215.0</td>\n",
              "      <td>5650.0</td>\n",
              "    </tr>\n",
              "    <tr>\n",
              "      <th>189</th>\n",
              "      <td>1</td>\n",
              "      <td>1</td>\n",
              "      <td>52.0</td>\n",
              "      <td>20.7</td>\n",
              "      <td>210.0</td>\n",
              "      <td>4800.0</td>\n",
              "    </tr>\n",
              "    <tr>\n",
              "      <th>265</th>\n",
              "      <td>2</td>\n",
              "      <td>3</td>\n",
              "      <td>43.6</td>\n",
              "      <td>13.9</td>\n",
              "      <td>217.0</td>\n",
              "      <td>4900.0</td>\n",
              "    </tr>\n",
              "    <tr>\n",
              "      <th>...</th>\n",
              "      <td>...</td>\n",
              "      <td>...</td>\n",
              "      <td>...</td>\n",
              "      <td>...</td>\n",
              "      <td>...</td>\n",
              "      <td>...</td>\n",
              "    </tr>\n",
              "    <tr>\n",
              "      <th>307</th>\n",
              "      <td>2</td>\n",
              "      <td>3</td>\n",
              "      <td>51.3</td>\n",
              "      <td>14.2</td>\n",
              "      <td>218.0</td>\n",
              "      <td>5300.0</td>\n",
              "    </tr>\n",
              "    <tr>\n",
              "      <th>27</th>\n",
              "      <td>0</td>\n",
              "      <td>3</td>\n",
              "      <td>40.5</td>\n",
              "      <td>17.9</td>\n",
              "      <td>187.0</td>\n",
              "      <td>3200.0</td>\n",
              "    </tr>\n",
              "    <tr>\n",
              "      <th>78</th>\n",
              "      <td>0</td>\n",
              "      <td>0</td>\n",
              "      <td>36.2</td>\n",
              "      <td>16.1</td>\n",
              "      <td>187.0</td>\n",
              "      <td>3550.0</td>\n",
              "    </tr>\n",
              "    <tr>\n",
              "      <th>20</th>\n",
              "      <td>0</td>\n",
              "      <td>3</td>\n",
              "      <td>37.8</td>\n",
              "      <td>18.3</td>\n",
              "      <td>174.0</td>\n",
              "      <td>3400.0</td>\n",
              "    </tr>\n",
              "    <tr>\n",
              "      <th>174</th>\n",
              "      <td>1</td>\n",
              "      <td>1</td>\n",
              "      <td>43.2</td>\n",
              "      <td>16.6</td>\n",
              "      <td>187.0</td>\n",
              "      <td>2900.0</td>\n",
              "    </tr>\n",
              "  </tbody>\n",
              "</table>\n",
              "<p>266 rows × 6 columns</p>\n",
              "</div>"
            ],
            "text/plain": [
              "     species  island  ...  flipper_length_mm  body_mass_g\n",
              "66         0       3  ...              195.0       3350.0\n",
              "132        0       1  ...              193.0       3500.0\n",
              "247        2       3  ...              215.0       5650.0\n",
              "189        1       1  ...              210.0       4800.0\n",
              "265        2       3  ...              217.0       4900.0\n",
              "..       ...     ...  ...                ...          ...\n",
              "307        2       3  ...              218.0       5300.0\n",
              "27         0       3  ...              187.0       3200.0\n",
              "78         0       0  ...              187.0       3550.0\n",
              "20         0       3  ...              174.0       3400.0\n",
              "174        1       1  ...              187.0       2900.0\n",
              "\n",
              "[266 rows x 6 columns]"
            ]
          },
          "metadata": {
            "tags": []
          },
          "execution_count": 6
        }
      ]
    },
    {
      "cell_type": "code",
      "metadata": {
        "id": "2Qac182WwT1J",
        "colab": {
          "base_uri": "https://localhost:8080/",
          "height": 34
        },
        "outputId": "ffe0602f-d945-4d93-d384-e17f0e7e2e22"
      },
      "source": [
        "print(\"I choosed Decision Tree and Supporting Vector Machine as my supervised Machine Learning methods\")"
      ],
      "execution_count": null,
      "outputs": [
        {
          "output_type": "stream",
          "text": [
            "I choosed Decision Tree and Supporting Vector Machine as my supervised Machine Learning methods\n"
          ],
          "name": "stdout"
        }
      ]
    },
    {
      "cell_type": "code",
      "metadata": {
        "id": "rLZR38xI2REQ",
        "colab": {
          "base_uri": "https://localhost:8080/",
          "height": 316
        },
        "outputId": "bf09da32-6556-4782-936a-6086e6c750da"
      },
      "source": [
        "# Using Decison Tree\n",
        "# construct a tree as below\n",
        "\n",
        "from sklearn import tree\n",
        "\n",
        "print(\"Train the data using Decision Tree\")\n",
        "\n",
        "\n",
        "# entropy is the expected value of information amount\n",
        "# when entropy is high,its difficlut to seperate\n",
        "# while entropy is low, its good\n",
        "clf = tree.DecisionTreeClassifier(criterion='entropy')\n",
        "\n",
        "clf=clf.fit(x_feature, x_target)\n",
        " \n",
        "# Show the trained tree using plot function\n",
        "\n",
        "print(\"Decision Tree is like below\")\n",
        "\n",
        "tree.plot_tree(clf) \n",
        "\n",
        "predicted_DT = clf.predict(y_feature)\n",
        "\n",
        "from sklearn.metrics import confusion_matrix\n",
        "\n",
        "# confusion matrix\n",
        "confusion_matrix(y_target,predicted_DT)\n",
        "\n"
      ],
      "execution_count": null,
      "outputs": [
        {
          "output_type": "stream",
          "text": [
            "Train the data using Decision Tree\n",
            "Decision Tree is like below\n"
          ],
          "name": "stdout"
        },
        {
          "output_type": "execute_result",
          "data": {
            "text/plain": [
              "array([[27,  1],\n",
              "       [ 4, 35]])"
            ]
          },
          "metadata": {
            "tags": []
          },
          "execution_count": 8
        },
        {
          "output_type": "display_data",
          "data": {
            "image/png": "[encoded data removed]",
            "text/plain": [
              "<Figure size 432x288 with 1 Axes>"
            ]
          },
          "metadata": {
            "tags": [],
            "needs_background": "light"
          }
        }
      ]
    },
    {
      "cell_type": "code",
      "metadata": {
        "id": "lQdqf9qKPMcd",
        "colab": {
          "base_uri": "https://localhost:8080/",
          "height": 102
        },
        "outputId": "e76d8fc1-cfe8-4a48-f047-171053be3f41"
      },
      "source": [
        "from sklearn.metrics import precision_score, recall_score, f1_score, accuracy_score\n",
        "\n",
        "\n",
        "print(\"Results of Decision Tree\")\n",
        "\n",
        "print('Accuracy = ', accuracy_score(y_target, predicted_DT))\n",
        "\n",
        "print('Precision = ', precision_score(y_target, predicted_DT))\n",
        "\n",
        "print('Recall = ', recall_score(y_target, predicted_DT))\n",
        "\n",
        "print('F1 score = ', f1_score(y_target, predicted_DT))"
      ],
      "execution_count": null,
      "outputs": [
        {
          "output_type": "stream",
          "text": [
            "Results of Decision Tree\n",
            "Accuracy =  0.9253731343283582\n",
            "Precision =  0.9722222222222222\n",
            "Recall =  0.8974358974358975\n",
            "F1 score =  0.9333333333333333\n"
          ],
          "name": "stdout"
        }
      ]
    },
    {
      "cell_type": "code",
      "metadata": {
        "id": "GsGerN9HHbJl",
        "colab": {
          "base_uri": "https://localhost:8080/",
          "height": 122
        },
        "outputId": "fc8159c7-ab5d-4ef8-bae8-1c3ddf80e9fb"
      },
      "source": [
        "# using SVM\n",
        "\n",
        "print(\"Train the data using SVM\")\n",
        "\n",
        "from sklearn import svm\n",
        "\n",
        "clf = svm.SVC()\n",
        "\n",
        "clf.fit(x_feature, x_target)\n",
        "\n",
        "predicted_SVM = clf.predict(y_feature)\n",
        "\n",
        "from sklearn.metrics import confusion_matrix\n",
        "\n",
        "confusion_matrix(y_target,predicted_SVM)"
      ],
      "execution_count": null,
      "outputs": [
        {
          "output_type": "stream",
          "text": [
            "Train the data using SVM\n"
          ],
          "name": "stdout"
        },
        {
          "output_type": "stream",
          "text": [
            "/usr/local/lib/python3.6/dist-packages/sklearn/utils/validation.py:760: DataConversionWarning: A column-vector y was passed when a 1d array was expected. Please change the shape of y to (n_samples, ), for example using ravel().\n",
            "  y = column_or_1d(y, warn=True)\n"
          ],
          "name": "stderr"
        },
        {
          "output_type": "execute_result",
          "data": {
            "text/plain": [
              "array([[19,  9],\n",
              "       [13, 26]])"
            ]
          },
          "metadata": {
            "tags": []
          },
          "execution_count": 10
        }
      ]
    },
    {
      "cell_type": "code",
      "metadata": {
        "id": "mIDkSx6-SjK2",
        "colab": {
          "base_uri": "https://localhost:8080/",
          "height": 102
        },
        "outputId": "5c207ba0-2752-47d3-8943-3e2de6a32f2f"
      },
      "source": [
        "from sklearn.metrics import precision_score, recall_score, f1_score, accuracy_score\n",
        "\n",
        "print(\"Results of SVM\")\n",
        "\n",
        "print('Accuracy = ', accuracy_score(y_target, predicted_SVM))\n",
        "\n",
        "print('Precision = ', precision_score(y_target, predicted_SVM))\n",
        "\n",
        "print('Recall = ', recall_score(y_target, predicted_SVM))\n",
        "\n",
        "print('F1 score = ', f1_score(y_target, predicted_SVM))"
      ],
      "execution_count": null,
      "outputs": [
        {
          "output_type": "stream",
          "text": [
            "Results of SVM\n",
            "Accuracy =  0.6716417910447762\n",
            "Precision =  0.7428571428571429\n",
            "Recall =  0.6666666666666666\n",
            "F1 score =  0.7027027027027027\n"
          ],
          "name": "stdout"
        }
      ]
    },
    {
      "cell_type": "markdown",
      "metadata": {
        "id": "c4IlNN0-DUjx"
      },
      "source": [
        "\n",
        "\n",
        "# About\n",
        "---\n",
        "\n",
        "\n",
        "1.   **Discussion**\n",
        "  \n",
        "  Discison Tree is easily to interpret, and easily to be trained.\n",
        "\n",
        "  And because there are several missing values in 'penguin' dataset, and Decision Tree is good dealing with dataset with missing values.\n",
        "  \n",
        "  SVM are supervised models with associated learning algorithm that analyze data used for classification and regression analysis, based on the statistical learning framework.\n",
        "\n",
        "  An SVM model performe better when dealing with high-dimentional space dataset, but when dealing with datasets which are at same space and predicted to belong to a category based on the side of the gap on which they fall.\n",
        "\n",
        "  So as in my experiment when 'penguin' datasets are using an SVM model, the accuracy and F1-score are way lower than its in Decision Tree. \n",
        "\n",
        "\n",
        "\n",
        "---\n",
        "\n",
        "\n",
        "\n",
        "2. **Data Analysis**\n",
        "\n",
        "  As you can see the results above.\n",
        "\n",
        "  The Accuracy of Decision Tree is 0.9253731343283582\n",
        "\n",
        "  while the Accuracy of SVM is 0.6716417910447762\n",
        "\n",
        "  So Decision Tree is better than SVM in Accuracy.\n",
        "\n",
        "  And as the F1 score is a measure of a test's accuracy. \n",
        "It considers both the precision and the recall of the test to compute the score.\n",
        "\n",
        "  The F1 score of Decision Tree  =  0.9315068493150686\n",
        "\n",
        "  and the F1 score of SVM  =  0.7027027027027027\n",
        "\n",
        "  So under the dataset of penguin, Decison Tree performed better than SVM.\n",
        "\n",
        "\n",
        "\n",
        "---\n",
        "\n",
        "\n",
        "\n",
        "3. **Result**\n",
        "\n",
        "  In conclusion, in my consideration, Decision tree performs better when dealing with datatsets with missing values while SVM is not.\n",
        "\n",
        "  And SVM performs better when dealing with high-dimentional space but 'penguin' is not, so the results of accuracy and F1-score are not as good as its in Decision Tree."
      ]
    }
  ]
}